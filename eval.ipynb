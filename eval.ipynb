{
 "cells": [
  {
   "cell_type": "markdown",
   "metadata": {},
   "source": [
    "# Librairies"
   ]
  },
  {
   "cell_type": "code",
   "execution_count": 1,
   "metadata": {},
   "outputs": [],
   "source": [
    "from sklearn.datasets import load_digits\n",
    "import matplotlib.pyplot as plt\n",
    "import matplotlib.patches as mpatches\n",
    "import numpy as np\n",
    "import pandas as pd\n",
    "import time\n",
    "import seaborn as sn\n",
    "from sklearn import *\n",
    "from sklearn.linear_model import *\n",
    "from sklearn.neural_network import *\n",
    "from sklearn.neighbors import KNeighborsClassifier\n",
    "from sklearn.metrics import classification_report\n",
    "from sklearn.model_selection import StratifiedKFold\n",
    "from sklearn.model_selection import KFold\n",
    "import math\n",
    "from sklearn.preprocessing import StandardScaler\n",
    "from sklearn.preprocessing import MinMaxScaler\n",
    "from imblearn.over_sampling import ADASYN\n",
    "from sklearn.svm import SVC\n",
    "from sklearn.decomposition import PCA\n",
    "\n",
    "import pickle\n"
   ]
  },
  {
   "cell_type": "code",
   "execution_count": 5,
   "metadata": {},
   "outputs": [],
   "source": [
    "path_model=\"classifier_NADAUD_NESPOULOUS_NOBLANC.pkl\"\n",
    "path_dataset=\"testset.csv\"\n",
    "pca_model=\"PCA.pkl\"\n",
    "with open(path_model, 'rb') as fid:\n",
    "    clf = pickle.load(fid)\n",
    "with open(pca_model, 'rb') as fid:\n",
    "    pca = pickle.load(fid)"
   ]
  },
  {
   "cell_type": "code",
   "execution_count": 7,
   "metadata": {},
   "outputs": [],
   "source": [
    "dataPi = pd.read_csv(path_dataset)\n",
    "X_dataPi=dataPi.copy()"
   ]
  },
  {
   "cell_type": "code",
   "execution_count": 11,
   "metadata": {},
   "outputs": [],
   "source": [
    "def dist(point1, point2, df):\n",
    "    point1, point2 = str(point1), str(point2)\n",
    "    return  (  (df[' x_' + point2] - df[' x_' + point1])**(2) +  (df[' y_' + point2] - df[' y_' + point1])**(2)   )**(0.5)\n",
    "\n",
    "def dist_normalisee(point1, point2, df, coef): # normalisée par la distance interoculaire\n",
    "    point1, point2 = str(point1), str(point2)\n",
    "    return  (((  (df[' x_' + point2] - df[' x_' + point1])**(2) +  (df[' y_' + point2] - df[' y_' + point1])**(2)   )**(0.5))/coef)\n",
    "\n",
    "def angl(point1, point2, point3, df):\n",
    "    point1, point2, point3 = str(point1), str(point2), str(point3)\n",
    "    a = np.array([df[' x_' + point1],df[' y_' + point1]])\n",
    "    b = np.array([df[' x_' + point2],df[' y_' + point2]])\n",
    "    c = np.array([df[' x_' + point3],df[' y_' + point3]])\n",
    "    \n",
    "    angle = np.degrees(np.arctan(c[1]-b[1], c[0]-b[0]) - np.arctan(a[1]-b[1], a[0]-b[0]))\n",
    " \n",
    "    angle[angle<0] = angle[angle<0] + 360\n",
    "    return angle"
   ]
  },
  {
   "cell_type": "code",
   "execution_count": 19,
   "metadata": {},
   "outputs": [
    {
     "name": "stdout",
     "output_type": "stream",
     "text": [
      "calcul pour les angles a= 0\n",
      "calcul pour les angles a= 1\n",
      "calcul pour les angles a= 2\n"
     ]
    }
   ],
   "source": [
    "X_new_ft = X_dataPi.copy()\n",
    "\n",
    "X_new_ft['distOculaire'] = (  (X_new_ft.loc[: , \" x_42\":\" x_47\"].mean(axis=1) - X_new_ft.loc[: , \" x_36\":\" x_41\"].mean(axis=1))**(2) +  (X_new_ft.loc[: , \" y_42\":\" y_47\"].mean(axis=1) - X_new_ft.loc[: , \" y_36\":\" y_41\"].mean(axis=1))**(2)   )**(0.5)\n",
    "\n",
    "\n",
    "for i in range(0,68):\n",
    "    for j in range(i,68): # afin de ne pas recalculer deux fois la meme distance\n",
    "        if (i != j): # on ne calcule pas la distance d'un point avec lui même\n",
    "            #X_new_ft['dist'+str(i)+\"_\"+str(j)]  = dist(i, j, X_dataPi)\n",
    "            X_new_ft['dist_norm'+str(i)+\"_\"+str(j)]  = dist_normalisee(i, j, X_dataPi,X_new_ft['distOculaire'])\n",
    "\n",
    "for i in range(0,68):\n",
    "    for j in range(0,68): # afin de ne pas recalculer deux fois le même angle\n",
    "        for k in range(i,68):\n",
    "            if (i != j and j != k and i != k): # on ne calcule pas d'angle entre 3 points quand deux d'entre eux sont les mêmes             \n",
    "                X_new_ft['angl'+str(i)+\"_\"+str(j)+\"_\"+str(k)] = angl(i, j, k, X_dataPi)\n",
    "    print('calcul pour les angles a=',i)\n",
    "\n",
    "X_new_ft.drop(X_new_ft.iloc[:, 0:138], inplace = True, axis = 1) \n",
    "\n",
    "ColonnesDf = X_new_ft.columns\n",
    "indexDf = X_new_ft.index\n",
    "standardScaler = StandardScaler()\n",
    "X_new_ft = standardScaler.fit_transform(X_new_ft)\n",
    "\n",
    "X_new_ft = pd.DataFrame(X_new_ft, index=indexDf, columns=ColonnesDf)\n",
    "del X_new_ft['distOculaire']\n",
    "X_new_ft.to_csv('Dataframe_with_feature_extraction_test.csv')"
   ]
  },
  {
   "cell_type": "code",
   "execution_count": 12,
   "metadata": {},
   "outputs": [],
   "source": [
    "X_new_ft_PCA =  pd.read_csv('Dataframe_with_feature_extraction_Test.csv')"
   ]
  },
  {
   "cell_type": "code",
   "execution_count": 14,
   "metadata": {},
   "outputs": [],
   "source": [
    "del X_new_ft_PCA['Unnamed: 0']\n"
   ]
  },
  {
   "cell_type": "code",
   "execution_count": 15,
   "metadata": {},
   "outputs": [],
   "source": [
    "del X_new_ft_PCA['distOculaire']"
   ]
  },
  {
   "cell_type": "code",
   "execution_count": 17,
   "metadata": {},
   "outputs": [],
   "source": [
    "#X_new_ft_PCA = X_new_ft.copy()\n",
    "XPCA = pca.transform(X_new_ft_PCA)"
   ]
  },
  {
   "cell_type": "code",
   "execution_count": 18,
   "metadata": {},
   "outputs": [],
   "source": [
    "yPredicted=clf.predict(XPCA)"
   ]
  },
  {
   "cell_type": "code",
   "execution_count": 19,
   "metadata": {},
   "outputs": [],
   "source": [
    "yPredicted=pd.DataFrame(data=yPredicted, columns=['label predicted'])"
   ]
  },
  {
   "cell_type": "code",
   "execution_count": 20,
   "metadata": {},
   "outputs": [],
   "source": [
    "yPredicted.to_csv('yPredicted.csv')"
   ]
  },
  {
   "cell_type": "code",
   "execution_count": null,
   "metadata": {},
   "outputs": [],
   "source": []
  }
 ],
 "metadata": {
  "kernelspec": {
   "display_name": "Python 3",
   "language": "python",
   "name": "python3"
  },
  "language_info": {
   "codemirror_mode": {
    "name": "ipython",
    "version": 3
   },
   "file_extension": ".py",
   "mimetype": "text/x-python",
   "name": "python",
   "nbconvert_exporter": "python",
   "pygments_lexer": "ipython3",
   "version": "3.8.5"
  }
 },
 "nbformat": 4,
 "nbformat_minor": 4
}
