{
 "cells": [
  {
   "cell_type": "markdown",
   "metadata": {},
   "source": [
    "# LIBRAIRIES"
   ]
  },
  {
   "cell_type": "code",
   "execution_count": 1,
   "metadata": {},
   "outputs": [],
   "source": [
    "from sklearn.datasets import load_digits\n",
    "import matplotlib.pyplot as plt\n",
    "import matplotlib.patches as mpatches\n",
    "import numpy as np\n",
    "import pandas as pd\n",
    "import time\n",
    "import seaborn as sn\n",
    "from sklearn import *\n",
    "from sklearn.linear_model import *\n",
    "from sklearn.neural_network import *\n",
    "from sklearn.neighbors import KNeighborsClassifier\n",
    "from sklearn.metrics import classification_report\n",
    "from sklearn.model_selection import StratifiedKFold\n",
    "from sklearn.model_selection import KFold\n",
    "import math\n",
    "from sklearn.preprocessing import StandardScaler\n",
    "from sklearn.preprocessing import MinMaxScaler\n",
    "from imblearn.over_sampling import ADASYN\n",
    "from sklearn.decomposition import PCA\n",
    "import pickle"
   ]
  },
  {
   "cell_type": "markdown",
   "metadata": {},
   "source": [
    "### CONSTANTES :"
   ]
  },
  {
   "cell_type": "code",
   "execution_count": 2,
   "metadata": {},
   "outputs": [],
   "source": [
    "#entrer le path de votre dataset\n",
    "path_name=\"/Users/edouardnadaud/Desktop/DATACAMP_PYTHON_2/Dataset/trainset/trainset.csv\"\n",
    "dataPi = pd.read_csv(path_name)"
   ]
  },
  {
   "cell_type": "code",
   "execution_count": 3,
   "metadata": {},
   "outputs": [],
   "source": [
    "X_dataPi = dataPi[dataPi.columns[1:-1]]\n",
    "y_dataPi = dataPi[dataPi.columns[-1]]"
   ]
  },
  {
   "cell_type": "code",
   "execution_count": 4,
   "metadata": {},
   "outputs": [],
   "source": [
    "def dist(point1, point2, df):\n",
    "    point1, point2 = str(point1), str(point2)\n",
    "    return  (  (df[' x_' + point2] - df[' x_' + point1])**(2) +  (df[' y_' + point2] - df[' y_' + point1])**(2)   )**(0.5)\n",
    "\n",
    "def dist_normalisee(point1, point2, df, coef): # normalisée par la distance interoculaire\n",
    "    point1, point2 = str(point1), str(point2)\n",
    "    return  (((  (df[' x_' + point2] - df[' x_' + point1])**(2) +  (df[' y_' + point2] - df[' y_' + point1])**(2)   )**(0.5))/coef)\n",
    "\n",
    "def angl(point1, point2, point3, df):\n",
    "    point1, point2, point3 = str(point1), str(point2), str(point3)\n",
    "    a = np.array([df[' x_' + point1],df[' y_' + point1]])\n",
    "    b = np.array([df[' x_' + point2],df[' y_' + point2]])\n",
    "    c = np.array([df[' x_' + point3],df[' y_' + point3]])\n",
    "    \n",
    "    angle = np.degrees(np.arctan(c[1]-b[1], c[0]-b[0]) - np.arctan(a[1]-b[1], a[0]-b[0]))\n",
    " \n",
    "    angle[angle<0] = angle[angle<0] + 360\n",
    "    return angle\n",
    "\n"
   ]
  },
  {
   "cell_type": "code",
   "execution_count": 9,
   "metadata": {},
   "outputs": [
    {
     "name": "stdout",
     "output_type": "stream",
     "text": [
      "clacul pour les angles a= 0\n",
      "clacul pour les angles a= 1\n",
      "clacul pour les angles a= 2\n"
     ]
    }
   ],
   "source": [
    "X_new_ft = X_dataPi.copy()\n",
    "\n",
    "X_new_ft['distOculaire'] = (  (X_new_ft.loc[: , \" x_42\":\" x_47\"].mean(axis=1) - X_new_ft.loc[: , \" x_36\":\" x_41\"].mean(axis=1))**(2) +  (X_new_ft.loc[: , \" y_42\":\" y_47\"].mean(axis=1) - X_new_ft.loc[: , \" y_36\":\" y_41\"].mean(axis=1))**(2)   )**(0.5)\n",
    "\n",
    "\n",
    "for i in range(0,68):\n",
    "    for j in range(i,68): # afin de ne pas recalculer deux fois la meme distance\n",
    "        if (i != j): # on ne calcule pas la distance d'un point avec lui même\n",
    "            #X_new_ft['dist'+str(i)+\"_\"+str(j)]  = dist(i, j, X_dataPi)\n",
    "            X_new_ft['dist_norm'+str(i)+\"_\"+str(j)]  = dist_normalisee(i, j, X_dataPi,X_new_ft['distOculaire'])\n",
    "\n",
    "for i in range(0,68):\n",
    "    for j in range(0,68): # afin de ne pas recalculer deux fois le même angle\n",
    "        for k in range(i,68):\n",
    "            if (i != j and j != k and i != k): # on ne calcule pas d'angle entre 3 points quand deux d'entre eux sont les mêmes             \n",
    "                X_new_ft['angl'+str(i)+\"_\"+str(j)+\"_\"+str(k)] = angl(i, j, k, X_dataPi)\n",
    "    print('clacul pour les angles a=',i)\n",
    "\n",
    "X_new_ft.drop(X_new_ft.iloc[:, 0:137], inplace = True, axis = 1) \n",
    "\n",
    "ColonnesDf = X_new_ft.columns\n",
    "indexDf = X_new_ft.index\n",
    "standardScaler = StandardScaler()\n",
    "X_new_ft = standardScaler.fit_transform(X_new_ft)\n",
    "\n",
    "X_new_ft = pd.DataFrame(X_new_ft, index=indexDf, columns=ColonnesDf)"
   ]
  },
  {
   "cell_type": "markdown",
   "metadata": {},
   "source": [
    "#### PCA"
   ]
  },
  {
   "cell_type": "code",
   "execution_count": 6,
   "metadata": {},
   "outputs": [],
   "source": [
    "X_new_ft_PCA = X_new_ft.copy()\n",
    "pca = PCA(n_components=dataPi.shape[0])\n",
    "pca.fit(X_new_ft_PCA)\n",
    "XPCA = pca.transform(X_new_ft_PCA)"
   ]
  },
  {
   "cell_type": "code",
   "execution_count": 7,
   "metadata": {},
   "outputs": [],
   "source": [
    "XPCA=pd.DataFrame(data=XPCA)\n",
    "\n",
    "XPCA.to_csv('/Users/edouardnadaud/Desktop/DATACAMP_PYTHON_2/Projet_final/python_rendu/Dataframe_with_feature_extraction.csv')\n",
    "\n",
    "\n",
    "# save the classifier\n",
    "with open('/Users/edouardnadaud/Desktop/DATACAMP_PYTHON_2/Projet_final/python_rendu/PCA.pkl', 'wb') as fid:\n",
    "    pickle.dump(pca, fid) "
   ]
  },
  {
   "cell_type": "code",
   "execution_count": null,
   "metadata": {},
   "outputs": [],
   "source": []
  }
 ],
 "metadata": {
  "kernelspec": {
   "display_name": "Python 3",
   "language": "python",
   "name": "python3"
  },
  "language_info": {
   "codemirror_mode": {
    "name": "ipython",
    "version": 3
   },
   "file_extension": ".py",
   "mimetype": "text/x-python",
   "name": "python",
   "nbconvert_exporter": "python",
   "pygments_lexer": "ipython3",
   "version": "3.8.5"
  }
 },
 "nbformat": 4,
 "nbformat_minor": 4
}
