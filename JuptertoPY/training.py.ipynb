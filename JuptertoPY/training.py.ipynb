{
 "cells": [
  {
   "cell_type": "markdown",
   "metadata": {},
   "source": [
    "# LIBRAIRIE"
   ]
  },
  {
   "cell_type": "code",
   "execution_count": 1,
   "metadata": {},
   "outputs": [],
   "source": [
    "from sklearn.datasets import load_digits\n",
    "import matplotlib.pyplot as plt\n",
    "import matplotlib.patches as mpatches\n",
    "import numpy as np\n",
    "import pandas as pd\n",
    "import time\n",
    "import seaborn as sn\n",
    "from sklearn import *\n",
    "from sklearn.linear_model import *\n",
    "from sklearn.neural_network import *\n",
    "from sklearn.neighbors import KNeighborsClassifier\n",
    "from sklearn.metrics import classification_report\n",
    "from sklearn.model_selection import StratifiedKFold\n",
    "from sklearn.model_selection import KFold\n",
    "import math\n",
    "from sklearn.preprocessing import StandardScaler\n",
    "from sklearn.preprocessing import MinMaxScaler\n",
    "from imblearn.over_sampling import ADASYN\n",
    "from sklearn.svm import SVC\n",
    "from sklearn.decomposition import PCA\n",
    "import pickle"
   ]
  },
  {
   "cell_type": "markdown",
   "metadata": {},
   "source": [
    "#### constantes"
   ]
  },
  {
   "cell_type": "code",
   "execution_count": 3,
   "metadata": {},
   "outputs": [],
   "source": [
    "#entrer le path de votre dataset\n",
    "path_name=\"Dataframe_with_feature_extraction.csv\"\n",
    "path_dataset_label=\"trainset.csv\"\n",
    "XPCA = pd.read_csv(path_name)\n",
    "dataPi = pd.read_csv(path_dataset_label)\n",
    "#je recupere les labels\n",
    "y_dataPi = dataPi[dataPi.columns[-1]]"
   ]
  },
  {
   "cell_type": "code",
   "execution_count": 7,
   "metadata": {},
   "outputs": [],
   "source": [
    "del XPCA['Unnamed: 0']"
   ]
  },
  {
   "cell_type": "code",
   "execution_count": 8,
   "metadata": {},
   "outputs": [],
   "source": [
    "X_nf_train_pca, X_nf_test_pca, y_dataPiTrain_pca, y_dataPiTest_pca = model_selection.train_test_split(XPCA, y_dataPi, train_size=0.75, test_size=0.25,shuffle=True)\n",
    "X_nf_train_pca, y_dataPiTrain_pca = ADASYN().fit_resample(X_nf_train_pca,y_dataPiTrain_pca)"
   ]
  },
  {
   "cell_type": "code",
   "execution_count": 9,
   "metadata": {},
   "outputs": [
    {
     "name": "stdout",
     "output_type": "stream",
     "text": [
      "0.9116022099447514\n"
     ]
    }
   ],
   "source": [
    "clf = SVC(C=0.5, kernel='linear',max_iter=20000) \n",
    "clf.fit(X_nf_train_pca,y_dataPiTrain_pca)\n",
    "print(clf.score(X_nf_test_pca,y_dataPiTest_pca))\n",
    "yPredicted=clf.predict(X_nf_test_pca)\n",
    "matriceConfusion = metrics.confusion_matrix(y_dataPiTest_pca,yPredicted)\n"
   ]
  },
  {
   "cell_type": "code",
   "execution_count": 11,
   "metadata": {},
   "outputs": [],
   "source": [
    "# save the classifier\n",
    "with open('classifier_NADAUD_NESPOULOUS_NOBLANC.pkl', 'wb') as fid:\n",
    "    pickle.dump(clf, fid)    "
   ]
  },
  {
   "cell_type": "code",
   "execution_count": null,
   "metadata": {},
   "outputs": [],
   "source": []
  }
 ],
 "metadata": {
  "kernelspec": {
   "display_name": "Python 3",
   "language": "python",
   "name": "python3"
  },
  "language_info": {
   "codemirror_mode": {
    "name": "ipython",
    "version": 3
   },
   "file_extension": ".py",
   "mimetype": "text/x-python",
   "name": "python",
   "nbconvert_exporter": "python",
   "pygments_lexer": "ipython3",
   "version": "3.8.5"
  }
 },
 "nbformat": 4,
 "nbformat_minor": 4
}
