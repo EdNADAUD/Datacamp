{
 "cells": [
  {
   "cell_type": "markdown",
   "metadata": {},
   "source": [
    "# Librairies"
   ]
  },
  {
   "cell_type": "code",
   "execution_count": 1,
   "metadata": {},
   "outputs": [],
   "source": [
    "import pandas as pd\n",
    "import numpy as np\n",
    "import os\n",
    "import glob\n",
    "import shutil"
   ]
  },
  {
   "cell_type": "markdown",
   "metadata": {},
   "source": [
    "# Variables à renseigner"
   ]
  },
  {
   "cell_type": "markdown",
   "metadata": {},
   "source": [
    "# --------------------------------------------------------------------------------------"
   ]
  },
  {
   "cell_type": "code",
   "execution_count": 2,
   "metadata": {},
   "outputs": [],
   "source": [
    "file_name=\"CNN_Classe\" #Nom du file ou seront classé les données\n",
    "path_file=\"/Users/edouardnadaud/Desktop/DATACAMP_PYTHON_2/datasetcrop/\" #chemin ou sera le fichier \n",
    "path_dst=path_file+file_name+\"/\"\n",
    "dataset_original_name=\"trainset.csv\"#nom du dataset.csv\n",
    "path_datastet=\"/Users/edouardnadaud/Desktop/DATACAMP_PYTHON_2/Dataset/trainset/\" #localisation du dataset"
   ]
  },
  {
   "cell_type": "markdown",
   "metadata": {},
   "source": [
    "# --------------------------------------------------------------------------------------"
   ]
  },
  {
   "cell_type": "markdown",
   "metadata": {},
   "source": [
    "Chargement du dataset"
   ]
  },
  {
   "cell_type": "code",
   "execution_count": 3,
   "metadata": {},
   "outputs": [],
   "source": [
    "dataset_original_location=path_datastet+dataset_original_name\n",
    "data=pd.read_csv(dataset_original_location) \n",
    "label=data[\"label\"]\n",
    "labels_names=np.unique(label)\n",
    "filename=data[['filename','label',' x_39',' x_45',' y_39', ' y_45']]"
   ]
  },
  {
   "cell_type": "markdown",
   "metadata": {},
   "source": [
    "Création des dossiers"
   ]
  },
  {
   "cell_type": "code",
   "execution_count": 4,
   "metadata": {},
   "outputs": [],
   "source": [
    "if not os.path.exists(path_dst):\n",
    "        os.makedirs(path_dst)\n",
    "for i in labels_names:\n",
    "    if not os.path.exists(path_dst+str(i)):\n",
    "        os.makedirs(path_dst+str(i))"
   ]
  },
  {
   "cell_type": "markdown",
   "metadata": {},
   "source": [
    "Nombre de fichier a classer"
   ]
  },
  {
   "cell_type": "code",
   "execution_count": 5,
   "metadata": {},
   "outputs": [],
   "source": [
    "type_file_dataset_original = (path_datastet + \"*.png\")\n",
    "nbr_file=len(glob.glob(type_file_dataset_original))"
   ]
  },
  {
   "cell_type": "markdown",
   "metadata": {},
   "source": [
    "copie des images dans leur dossier de classe"
   ]
  },
  {
   "cell_type": "code",
   "execution_count": 6,
   "metadata": {},
   "outputs": [],
   "source": [
    "for i in range(nbr_file):\n",
    "    path_src=path_file\n",
    "    path_dest=path_dst+\"/\"\n",
    "    \n",
    "    file_src=path_src+str(filename['filename'][i])+\"crop.png\"\n",
    "    \n",
    "    \n",
    "    for classe in labels_names: \n",
    "        if ((filename[\"label\"][i])== classe):\n",
    "            \n",
    "            file_dst=path_dest+str(classe)+\"/\"+str(filename['filename'][i])+\"crop.png\"\n",
    "            \n",
    "            shutil.copyfile(file_src,file_dst)\n",
    "\n",
    "\n"
   ]
  },
  {
   "cell_type": "code",
   "execution_count": null,
   "metadata": {},
   "outputs": [],
   "source": []
  },
  {
   "cell_type": "code",
   "execution_count": null,
   "metadata": {},
   "outputs": [],
   "source": []
  }
 ],
 "metadata": {
  "kernelspec": {
   "display_name": "Python 3",
   "language": "python",
   "name": "python3"
  },
  "language_info": {
   "codemirror_mode": {
    "name": "ipython",
    "version": 3
   },
   "file_extension": ".py",
   "mimetype": "text/x-python",
   "name": "python",
   "nbconvert_exporter": "python",
   "pygments_lexer": "ipython3",
   "version": "3.8.5"
  }
 },
 "nbformat": 4,
 "nbformat_minor": 4
}
