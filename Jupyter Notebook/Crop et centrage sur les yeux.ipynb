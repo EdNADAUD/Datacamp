{
 "cells": [
  {
   "cell_type": "markdown",
   "metadata": {},
   "source": [
    "# LIBRAIRIES"
   ]
  },
  {
   "cell_type": "code",
   "execution_count": 1,
   "metadata": {},
   "outputs": [],
   "source": [
    "import pandas as pd\n",
    "import os\n",
    "import glob\n",
    "import cv2\n",
    "import numpy as np"
   ]
  },
  {
   "cell_type": "markdown",
   "metadata": {},
   "source": [
    "# Variable à renseigner"
   ]
  },
  {
   "cell_type": "markdown",
   "metadata": {},
   "source": [
    "# --------------------------------------------------------------------------------------"
   ]
  },
  {
   "cell_type": "code",
   "execution_count": 2,
   "metadata": {},
   "outputs": [],
   "source": [
    "path_datastet=\"/Users/edouardnadaud/Desktop/DATACAMP_PYTHON_2/Dataset/trainset/\" #localisation du dataset\n",
    "dataset_original_name=\"trainset.csv\"#nom du dataset.csv\n",
    "file_name_new_dataset=\"datasetcrop\" #Enter a name\n",
    "destination_dataset=\"/Users/edouardnadaud/Desktop/DATACAMP_PYTHON_2/\"  # Localisation du dossier ou creer le nouveau dataset"
   ]
  },
  {
   "cell_type": "markdown",
   "metadata": {},
   "source": [
    "# --------------------------------------------------------------------------------------"
   ]
  },
  {
   "cell_type": "markdown",
   "metadata": {},
   "source": [
    "chargement du dataset"
   ]
  },
  {
   "cell_type": "code",
   "execution_count": 3,
   "metadata": {},
   "outputs": [],
   "source": [
    "dataset_original_location=path_datastet+dataset_original_name\n",
    "data=pd.read_csv(dataset_original_location) "
   ]
  },
  {
   "cell_type": "markdown",
   "metadata": {},
   "source": [
    "Création du chemin de destination du nouveaux dataset"
   ]
  },
  {
   "cell_type": "code",
   "execution_count": 4,
   "metadata": {},
   "outputs": [],
   "source": [
    "path_new_dataset=destination_dataset+file_name_new_dataset+\"/\""
   ]
  },
  {
   "cell_type": "markdown",
   "metadata": {},
   "source": [
    "creation du dossier datasetcrop"
   ]
  },
  {
   "cell_type": "code",
   "execution_count": 5,
   "metadata": {},
   "outputs": [],
   "source": [
    "if not os.path.exists(path_new_dataset):\n",
    "        os.makedirs(path_new_dataset)"
   ]
  },
  {
   "cell_type": "markdown",
   "metadata": {},
   "source": [
    "Récuperation du nom et des point nécesssaire pour aligner"
   ]
  },
  {
   "cell_type": "code",
   "execution_count": 6,
   "metadata": {},
   "outputs": [],
   "source": [
    "filename=data[['filename','label',' x_39',' x_45',' y_39', ' y_45']]"
   ]
  },
  {
   "cell_type": "markdown",
   "metadata": {},
   "source": [
    "calcul du nombre de file du dataset"
   ]
  },
  {
   "cell_type": "code",
   "execution_count": 7,
   "metadata": {},
   "outputs": [],
   "source": [
    "type_file_dataset_original = (path_datastet + \"*.png\")\n",
    "nbr_file=len(glob.glob(type_file_dataset_original))"
   ]
  },
  {
   "cell_type": "markdown",
   "metadata": {},
   "source": [
    "## Crop"
   ]
  },
  {
   "cell_type": "code",
   "execution_count": 8,
   "metadata": {},
   "outputs": [],
   "source": [
    "index=0\n",
    "for i in range(nbr_file):\n",
    "    \n",
    "    \n",
    "    path_dst=destination_dataset+file_name_new_dataset+\"/\"\n",
    "    \n",
    "    file_src=path_datastet+str(filename['filename'][i])+\".png\"\n",
    "    file=str(filename['filename'][i])\n",
    "    file_dst=path_dst+str(filename['filename'][i])+\"crop.png\"\n",
    "    img = cv2.imread(file_src)\n",
    "\n",
    "    \n",
    "\n",
    "\n",
    "    #detection facial\n",
    "    face_cascade = cv2.CascadeClassifier(cv2.data.haarcascades + 'haarcascade_frontalface_default.xml')\n",
    "    faces_detected = face_cascade.detectMultiScale(img, scaleFactor=1.1, minNeighbors=5)\n",
    "    (x, y, w, h) = faces_detected[0]\n",
    "    H, W = img.shape[:2]\n",
    "\n",
    "    #pour les yeux je choisis les points 39 et 45\n",
    "    \n",
    "    img_row=data.loc[data['filename']==file,:]\n",
    "    \n",
    "    #recuperation des coordonnée\n",
    "\n",
    "        #x39\n",
    "    Xleft_eye=img_row[\" x_39\"]\n",
    "    Xleft_eye=Xleft_eye[index]\n",
    "    \n",
    "        #y39\n",
    "    Yleft_eye=img_row[\" y_39\"]\n",
    "    Yleft_eye=Yleft_eye[index]\n",
    "        #x45\n",
    "    Xright_eye=img_row[\" x_45\"]\n",
    "    Xright_eye=Xright_eye[index]\n",
    "    \n",
    "        #y45\n",
    "    Yright_eye=img_row[\" y_45\"]\n",
    "    Yright_eye=Yright_eye[index]\n",
    "\n",
    "    #calculation de l'angle\n",
    "    delta_x = Xright_eye - Xleft_eye\n",
    "    delta_y = Yright_eye - Yleft_eye\n",
    "    angle=np.arctan(delta_y/delta_x)\n",
    "    angle = (angle * 180) / np.pi\n",
    "\n",
    "\n",
    "    # Calculating a center point of the image\n",
    "    # Integer division \"//\"\" ensures that we receive whole numbers\n",
    "    center = (W // 2, h // 2)\n",
    "    \n",
    "    M = cv2.getRotationMatrix2D(center, (angle), 1.0)    \n",
    "\n",
    "    rotated = cv2.warpAffine(img, M, (W, H))\n",
    "\n",
    "\n",
    "    #On centre l'image sur le visage\n",
    "    p=0\n",
    "    cv2.imwrite(file_dst, rotated[y-p+1:y+h+p, x-p+1:x+w+p])\n",
    "\n",
    "    index=index+1\n",
    "\n"
   ]
  }
 ],
 "metadata": {
  "kernelspec": {
   "display_name": "Python 3",
   "language": "python",
   "name": "python3"
  },
  "language_info": {
   "codemirror_mode": {
    "name": "ipython",
    "version": 3
   },
   "file_extension": ".py",
   "mimetype": "text/x-python",
   "name": "python",
   "nbconvert_exporter": "python",
   "pygments_lexer": "ipython3",
   "version": "3.8.5"
  }
 },
 "nbformat": 4,
 "nbformat_minor": 4
}
