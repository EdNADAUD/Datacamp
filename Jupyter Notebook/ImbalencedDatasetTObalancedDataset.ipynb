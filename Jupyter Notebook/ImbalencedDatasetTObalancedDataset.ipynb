{
 "cells": [
  {
   "cell_type": "code",
   "execution_count": 3,
   "metadata": {},
   "outputs": [],
   "source": [
    "def imbalenced_to_balanced_dataset(dataset):\n",
    "    #librairie de la fonction\n",
    "#--------------------------------------------------------------------------------------------------------#\n",
    "    import imblearn\n",
    "    from imblearn.over_sampling import SMOTE\n",
    "    import pandas as pd\n",
    "    from collections import Counter\n",
    "#--------------------------------------------------------------------------------------------------------#\n",
    "    data=dataset\n",
    "    y=data[\"label\"]\n",
    "    del data['label']\n",
    "    del data['filename']\n",
    "    X=data\n",
    "    oversample = SMOTE()\n",
    "    X, y = oversample.fit_resample(X, y)\n",
    "    counter = Counter(y)\n",
    "    print(counter)\n",
    "    return(X,y)"
   ]
  }
 ],
 "metadata": {
  "kernelspec": {
   "display_name": "Python 3",
   "language": "python",
   "name": "python3"
  },
  "language_info": {
   "codemirror_mode": {
    "name": "ipython",
    "version": 3
   },
   "file_extension": ".py",
   "mimetype": "text/x-python",
   "name": "python",
   "nbconvert_exporter": "python",
   "pygments_lexer": "ipython3",
   "version": "3.8.5"
  }
 },
 "nbformat": 4,
 "nbformat_minor": 4
}
